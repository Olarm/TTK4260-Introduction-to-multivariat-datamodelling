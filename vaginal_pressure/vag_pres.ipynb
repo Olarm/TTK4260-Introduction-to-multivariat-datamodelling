{
 "nbformat": 4,
 "nbformat_minor": 2,
 "metadata": {
  "language_info": {
   "name": "python",
   "codemirror_mode": {
    "name": "ipython",
    "version": 3
   },
   "version": "3.6.5-final"
  },
  "orig_nbformat": 2,
  "file_extension": ".py",
  "mimetype": "text/x-python",
  "name": "python",
  "npconvert_exporter": "python",
  "pygments_lexer": "ipython3",
  "version": 3,
  "kernelspec": {
   "name": "python36564bitjupyterlabvirtualenv85360374b44a4e398f5b1b7629bb06b8",
   "display_name": "Python 3.6.5 64-bit ('jupyterlab': virtualenv)"
  }
 },
 "cells": [
  {
   "cell_type": "code",
   "execution_count": 1,
   "metadata": {},
   "outputs": [],
   "source": [
    "import numpy as np\n",
    "import pandas as pd\n",
    "import seaborn as sns; sns.set()\n",
    "import matplotlib.pyplot as plt"
   ]
  },
  {
   "cell_type": "code",
   "execution_count": 5,
   "metadata": {},
   "outputs": [],
   "source": [
    "A = pd.read_csv(\"A.csv\")\n",
    "B = pd.read_csv(\"B.csv\")"
   ]
  },
  {
   "cell_type": "code",
   "execution_count": 9,
   "metadata": {},
   "outputs": [
    {
     "data": {
      "text/html": "<div>\n<style scoped>\n    .dataframe tbody tr th:only-of-type {\n        vertical-align: middle;\n    }\n\n    .dataframe tbody tr th {\n        vertical-align: top;\n    }\n\n    .dataframe thead th {\n        text-align: right;\n    }\n</style>\n<table border=\"1\" class=\"dataframe\">\n  <thead>\n    <tr style=\"text-align: right;\">\n      <th></th>\n      <th>738</th>\n      <th>783</th>\n      <th>798</th>\n      <th>807</th>\n      <th>801</th>\n      <th>791</th>\n      <th>789</th>\n      <th>789.1</th>\n      <th>483</th>\n      <th>1265</th>\n      <th>118</th>\n    </tr>\n  </thead>\n  <tbody>\n    <tr>\n      <th>0</th>\n      <td>738</td>\n      <td>783</td>\n      <td>788</td>\n      <td>785</td>\n      <td>777</td>\n      <td>772</td>\n      <td>774</td>\n      <td>775</td>\n      <td>483</td>\n      <td>1240</td>\n      <td>259</td>\n    </tr>\n    <tr>\n      <th>1</th>\n      <td>738</td>\n      <td>783</td>\n      <td>788</td>\n      <td>785</td>\n      <td>777</td>\n      <td>772</td>\n      <td>774</td>\n      <td>775</td>\n      <td>483</td>\n      <td>1215</td>\n      <td>379</td>\n    </tr>\n    <tr>\n      <th>2</th>\n      <td>738</td>\n      <td>782</td>\n      <td>788</td>\n      <td>785</td>\n      <td>777</td>\n      <td>772</td>\n      <td>774</td>\n      <td>775</td>\n      <td>483</td>\n      <td>1190</td>\n      <td>499</td>\n    </tr>\n    <tr>\n      <th>3</th>\n      <td>738</td>\n      <td>783</td>\n      <td>788</td>\n      <td>785</td>\n      <td>777</td>\n      <td>772</td>\n      <td>774</td>\n      <td>775</td>\n      <td>483</td>\n      <td>1170</td>\n      <td>600</td>\n    </tr>\n    <tr>\n      <th>4</th>\n      <td>738</td>\n      <td>783</td>\n      <td>788</td>\n      <td>785</td>\n      <td>777</td>\n      <td>772</td>\n      <td>774</td>\n      <td>775</td>\n      <td>483</td>\n      <td>1140</td>\n      <td>740</td>\n    </tr>\n    <tr>\n      <th>...</th>\n      <td>...</td>\n      <td>...</td>\n      <td>...</td>\n      <td>...</td>\n      <td>...</td>\n      <td>...</td>\n      <td>...</td>\n      <td>...</td>\n      <td>...</td>\n      <td>...</td>\n      <td>...</td>\n    </tr>\n    <tr>\n      <th>582</th>\n      <td>739</td>\n      <td>792</td>\n      <td>804</td>\n      <td>796</td>\n      <td>780</td>\n      <td>773</td>\n      <td>775</td>\n      <td>776</td>\n      <td>483</td>\n      <td>-65</td>\n      <td>70276</td>\n    </tr>\n    <tr>\n      <th>583</th>\n      <td>738</td>\n      <td>788</td>\n      <td>800</td>\n      <td>793</td>\n      <td>778</td>\n      <td>772</td>\n      <td>775</td>\n      <td>776</td>\n      <td>483</td>\n      <td>-95</td>\n      <td>70397</td>\n    </tr>\n    <tr>\n      <th>584</th>\n      <td>738</td>\n      <td>786</td>\n      <td>796</td>\n      <td>790</td>\n      <td>777</td>\n      <td>772</td>\n      <td>775</td>\n      <td>776</td>\n      <td>483</td>\n      <td>-125</td>\n      <td>70518</td>\n    </tr>\n    <tr>\n      <th>585</th>\n      <td>738</td>\n      <td>785</td>\n      <td>793</td>\n      <td>788</td>\n      <td>777</td>\n      <td>772</td>\n      <td>774</td>\n      <td>776</td>\n      <td>483</td>\n      <td>-155</td>\n      <td>70635</td>\n    </tr>\n    <tr>\n      <th>586</th>\n      <td>738</td>\n      <td>784</td>\n      <td>791</td>\n      <td>787</td>\n      <td>776</td>\n      <td>772</td>\n      <td>774</td>\n      <td>775</td>\n      <td>483</td>\n      <td>-185</td>\n      <td>70758</td>\n    </tr>\n  </tbody>\n</table>\n<p>587 rows × 11 columns</p>\n</div>",
      "text/plain": "     738   783   798   807   801   791   789   789.1   483   1265    118\n0    738   783   788   785   777   772   774     775   483   1240    259\n1    738   783   788   785   777   772   774     775   483   1215    379\n2    738   782   788   785   777   772   774     775   483   1190    499\n3    738   783   788   785   777   772   774     775   483   1170    600\n4    738   783   788   785   777   772   774     775   483   1140    740\n..   ...   ...   ...   ...   ...   ...   ...     ...   ...    ...    ...\n582  739   792   804   796   780   773   775     776   483    -65  70276\n583  738   788   800   793   778   772   775     776   483    -95  70397\n584  738   786   796   790   777   772   775     776   483   -125  70518\n585  738   785   793   788   777   772   774     776   483   -155  70635\n586  738   784   791   787   776   772   774     775   483   -185  70758\n\n[587 rows x 11 columns]"
     },
     "execution_count": 9,
     "metadata": {},
     "output_type": "execute_result"
    }
   ],
   "source": [
    "B"
   ]
  },
  {
   "cell_type": "code",
   "execution_count": null,
   "metadata": {},
   "outputs": [],
   "source": []
  }
 ]
}