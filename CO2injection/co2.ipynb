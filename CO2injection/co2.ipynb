{
 "nbformat": 4,
 "nbformat_minor": 2,
 "metadata": {
  "language_info": {
   "name": "python",
   "codemirror_mode": {
    "name": "ipython",
    "version": 3
   },
   "version": "3.6.5-final"
  },
  "orig_nbformat": 2,
  "file_extension": ".py",
  "mimetype": "text/x-python",
  "name": "python",
  "npconvert_exporter": "python",
  "pygments_lexer": "ipython3",
  "version": 3,
  "kernelspec": {
   "name": "python36564bitjupyterlabvirtualenv85360374b44a4e398f5b1b7629bb06b8",
   "display_name": "Python 3.6.5 64-bit ('jupyterlab': virtualenv)"
  }
 },
 "cells": [
  {
   "cell_type": "code",
   "execution_count": 1,
   "metadata": {},
   "outputs": [],
   "source": [
    "import numpy as np\n",
    "import pandas as pd\n",
    "import seaborn as sns; sns.set()\n",
    "import matplotlib.pyplot as plt"
   ]
  },
  {
   "source": [
    "exp_1 = pd.read_excel(\"Exp-1.xlsx\")\n",
    "exp_2 = pd.read_excel(\"Exp-2.xlsx\")\n",
    "exp_3 = pd.read_excel(\"Exp-3.xlsx\")\n",
    "exp_4 = pd.read_excel(\"Exp-4.xlsx\")\n",
    "exp_5 = pd.read_excel(\"Exp-5.xlsx\")\n",
    "exp_6 = pd.read_excel(\"Exp-6.xlsx\")\n",
    "exp_7 = pd.read_excel(\"Exp-7.xlsx\")\n",
    "exp_8 = pd.read_excel(\"Exp-8.xlsx\")\n",
    "exp_9 = pd.read_excel(\"Exp-9.xlsx\")"
   ],
   "cell_type": "code",
   "outputs": [],
   "metadata": {},
   "execution_count": 9
  },
  {
   "source": [
    "exp_2"
   ],
   "cell_type": "code",
   "outputs": [
    {
     "output_type": "execute_result",
     "data": {
      "text/plain": "   Exp-2 Core data  Unnamed: 1                     Unnamed: 2 Unnamed: 3  \\\n0       Ref. WP1-2         NaN                            NaN        NaN   \n1              NaN         NaN                            NaN        NaN   \n2              NaN         NaN                            NaN        NaN   \n3              NaN         NaN                            NaN        NaN   \n4              NaN         NaN                       Features      Value   \n5              NaN         NaN                  Sample length      7.483   \n6              NaN         NaN                Sample diameter      3.757   \n7              NaN         NaN                  Hole Diameter        0.6   \n8              NaN         NaN                Sample porosity      47.09   \n9              NaN         NaN    Sample Matrix (void volume)      38.01   \n10             NaN         NaN                    Hole Volume       2.13   \n11             NaN         NaN        Sample Perm Klinkenberg       2.47   \n12             NaN         NaN           Initial water amount         15   \n13             NaN         NaN             Initial Oil amount         85   \n14             NaN         NaN          Water Flooding period          0   \n15             NaN         NaN             CO2 Flooding proid        130   \n16             NaN         NaN      Oil API at Initialization      61.56   \n17             NaN         NaN                   initial GOR           0   \n18             NaN         NaN    Number of components in Oil     Single   \n19             NaN         NaN             Operating Pressure       3750   \n20             NaN         NaN                    Core Sample    OutCrop   \n21             NaN         NaN  SO4 amount for initial water         NaN   \n22             NaN         NaN    Water Injection  SO4 amount        NaN   \n23             NaN         NaN              Diffuision of CO2      0.148   \n24             NaN         NaN    Diffusion of oil Components      0.148   \n25             NaN         NaN       Water Break through time        NaN   \n\n   Unnamed: 4                                         Unnamed: 5  \n0         NaN                                                NaN  \n1         NaN                                                NaN  \n2         NaN                                                NaN  \n3         NaN                                                NaN  \n4        Unit                                           Comments  \n5          cm                             The lenght of the core  \n6          cm                           The diameter of the core  \n7          cm                            The diamter of the hole  \n8           %                         The porosity of the sample  \n9          cc                              The Matix void volume  \n10         cc                                    The hole volume  \n11         md                             The chalk permeability  \n12          %     The water amount in chalk at initial condition  \n13          %               The oil amount at initial  condition  \n14         hr                       The period of water flooding  \n15         hr                       The period of gas injections  \n16      type   Type of fluid at initial condition:live oil, h...  \n17      cc/cc               gas-oil- ratio at initial condition   \n18       type                                    Single or Multi  \n19       bara                                The system pressure  \n20       Type  Type: core sampled from Reeservoir or from Out...  \n21        ppm   Amount of sulfite in interstitual water in chalk  \n22        ppm               Amount of sulfite in Water injection  \n23     cm2/hr  Diffusion coefficients of light components in ...  \n24     cm2/hr  Diffusion coefficients of heavy components in ...  \n25         hr        The time when water is observed at producer  ",
      "text/html": "<div>\n<style scoped>\n    .dataframe tbody tr th:only-of-type {\n        vertical-align: middle;\n    }\n\n    .dataframe tbody tr th {\n        vertical-align: top;\n    }\n\n    .dataframe thead th {\n        text-align: right;\n    }\n</style>\n<table border=\"1\" class=\"dataframe\">\n  <thead>\n    <tr style=\"text-align: right;\">\n      <th></th>\n      <th>Exp-2 Core data</th>\n      <th>Unnamed: 1</th>\n      <th>Unnamed: 2</th>\n      <th>Unnamed: 3</th>\n      <th>Unnamed: 4</th>\n      <th>Unnamed: 5</th>\n    </tr>\n  </thead>\n  <tbody>\n    <tr>\n      <th>0</th>\n      <td>Ref. WP1-2</td>\n      <td>NaN</td>\n      <td>NaN</td>\n      <td>NaN</td>\n      <td>NaN</td>\n      <td>NaN</td>\n    </tr>\n    <tr>\n      <th>1</th>\n      <td>NaN</td>\n      <td>NaN</td>\n      <td>NaN</td>\n      <td>NaN</td>\n      <td>NaN</td>\n      <td>NaN</td>\n    </tr>\n    <tr>\n      <th>2</th>\n      <td>NaN</td>\n      <td>NaN</td>\n      <td>NaN</td>\n      <td>NaN</td>\n      <td>NaN</td>\n      <td>NaN</td>\n    </tr>\n    <tr>\n      <th>3</th>\n      <td>NaN</td>\n      <td>NaN</td>\n      <td>NaN</td>\n      <td>NaN</td>\n      <td>NaN</td>\n      <td>NaN</td>\n    </tr>\n    <tr>\n      <th>4</th>\n      <td>NaN</td>\n      <td>NaN</td>\n      <td>Features</td>\n      <td>Value</td>\n      <td>Unit</td>\n      <td>Comments</td>\n    </tr>\n    <tr>\n      <th>5</th>\n      <td>NaN</td>\n      <td>NaN</td>\n      <td>Sample length</td>\n      <td>7.483</td>\n      <td>cm</td>\n      <td>The lenght of the core</td>\n    </tr>\n    <tr>\n      <th>6</th>\n      <td>NaN</td>\n      <td>NaN</td>\n      <td>Sample diameter</td>\n      <td>3.757</td>\n      <td>cm</td>\n      <td>The diameter of the core</td>\n    </tr>\n    <tr>\n      <th>7</th>\n      <td>NaN</td>\n      <td>NaN</td>\n      <td>Hole Diameter</td>\n      <td>0.6</td>\n      <td>cm</td>\n      <td>The diamter of the hole</td>\n    </tr>\n    <tr>\n      <th>8</th>\n      <td>NaN</td>\n      <td>NaN</td>\n      <td>Sample porosity</td>\n      <td>47.09</td>\n      <td>%</td>\n      <td>The porosity of the sample</td>\n    </tr>\n    <tr>\n      <th>9</th>\n      <td>NaN</td>\n      <td>NaN</td>\n      <td>Sample Matrix (void volume)</td>\n      <td>38.01</td>\n      <td>cc</td>\n      <td>The Matix void volume</td>\n    </tr>\n    <tr>\n      <th>10</th>\n      <td>NaN</td>\n      <td>NaN</td>\n      <td>Hole Volume</td>\n      <td>2.13</td>\n      <td>cc</td>\n      <td>The hole volume</td>\n    </tr>\n    <tr>\n      <th>11</th>\n      <td>NaN</td>\n      <td>NaN</td>\n      <td>Sample Perm Klinkenberg</td>\n      <td>2.47</td>\n      <td>md</td>\n      <td>The chalk permeability</td>\n    </tr>\n    <tr>\n      <th>12</th>\n      <td>NaN</td>\n      <td>NaN</td>\n      <td>Initial water amount</td>\n      <td>15</td>\n      <td>%</td>\n      <td>The water amount in chalk at initial condition</td>\n    </tr>\n    <tr>\n      <th>13</th>\n      <td>NaN</td>\n      <td>NaN</td>\n      <td>Initial Oil amount</td>\n      <td>85</td>\n      <td>%</td>\n      <td>The oil amount at initial  condition</td>\n    </tr>\n    <tr>\n      <th>14</th>\n      <td>NaN</td>\n      <td>NaN</td>\n      <td>Water Flooding period</td>\n      <td>0</td>\n      <td>hr</td>\n      <td>The period of water flooding</td>\n    </tr>\n    <tr>\n      <th>15</th>\n      <td>NaN</td>\n      <td>NaN</td>\n      <td>CO2 Flooding proid</td>\n      <td>130</td>\n      <td>hr</td>\n      <td>The period of gas injections</td>\n    </tr>\n    <tr>\n      <th>16</th>\n      <td>NaN</td>\n      <td>NaN</td>\n      <td>Oil API at Initialization</td>\n      <td>61.56</td>\n      <td>type</td>\n      <td>Type of fluid at initial condition:live oil, h...</td>\n    </tr>\n    <tr>\n      <th>17</th>\n      <td>NaN</td>\n      <td>NaN</td>\n      <td>initial GOR</td>\n      <td>0</td>\n      <td>cc/cc</td>\n      <td>gas-oil- ratio at initial condition</td>\n    </tr>\n    <tr>\n      <th>18</th>\n      <td>NaN</td>\n      <td>NaN</td>\n      <td>Number of components in Oil</td>\n      <td>Single</td>\n      <td>type</td>\n      <td>Single or Multi</td>\n    </tr>\n    <tr>\n      <th>19</th>\n      <td>NaN</td>\n      <td>NaN</td>\n      <td>Operating Pressure</td>\n      <td>3750</td>\n      <td>bara</td>\n      <td>The system pressure</td>\n    </tr>\n    <tr>\n      <th>20</th>\n      <td>NaN</td>\n      <td>NaN</td>\n      <td>Core Sample</td>\n      <td>OutCrop</td>\n      <td>Type</td>\n      <td>Type: core sampled from Reeservoir or from Out...</td>\n    </tr>\n    <tr>\n      <th>21</th>\n      <td>NaN</td>\n      <td>NaN</td>\n      <td>SO4 amount for initial water</td>\n      <td>NaN</td>\n      <td>ppm</td>\n      <td>Amount of sulfite in interstitual water in chalk</td>\n    </tr>\n    <tr>\n      <th>22</th>\n      <td>NaN</td>\n      <td>NaN</td>\n      <td>Water Injection  SO4 amount</td>\n      <td>NaN</td>\n      <td>ppm</td>\n      <td>Amount of sulfite in Water injection</td>\n    </tr>\n    <tr>\n      <th>23</th>\n      <td>NaN</td>\n      <td>NaN</td>\n      <td>Diffuision of CO2</td>\n      <td>0.148</td>\n      <td>cm2/hr</td>\n      <td>Diffusion coefficients of light components in ...</td>\n    </tr>\n    <tr>\n      <th>24</th>\n      <td>NaN</td>\n      <td>NaN</td>\n      <td>Diffusion of oil Components</td>\n      <td>0.148</td>\n      <td>cm2/hr</td>\n      <td>Diffusion coefficients of heavy components in ...</td>\n    </tr>\n    <tr>\n      <th>25</th>\n      <td>NaN</td>\n      <td>NaN</td>\n      <td>Water Break through time</td>\n      <td>NaN</td>\n      <td>hr</td>\n      <td>The time when water is observed at producer</td>\n    </tr>\n  </tbody>\n</table>\n</div>"
     },
     "metadata": {},
     "execution_count": 11
    }
   ],
   "metadata": {},
   "execution_count": 11
  },
  {
   "cell_type": "code",
   "execution_count": null,
   "metadata": {},
   "outputs": [],
   "source": []
  }
 ]
}